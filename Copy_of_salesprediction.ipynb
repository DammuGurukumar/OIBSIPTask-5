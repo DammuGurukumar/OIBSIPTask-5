{
  "nbformat": 4,
  "nbformat_minor": 0,
  "metadata": {
    "colab": {
      "provenance": []
    },
    "kernelspec": {
      "name": "python3",
      "display_name": "Python 3"
    },
    "language_info": {
      "name": "python"
    }
  },
  "cells": [
    {
      "cell_type": "code",
      "execution_count": null,
      "metadata": {
        "colab": {
          "base_uri": "https://localhost:8080/",
          "height": 330
        },
        "id": "sFKZM0JxCHDz",
        "outputId": "18304599-5e79-43f4-edd8-d455536f3dee"
      },
      "outputs": [
        {
          "output_type": "stream",
          "name": "stdout",
          "text": [
            "Mean Squared Error:  3.1990044685888988\n",
            "R-squared:  0.8986489151417082\n"
          ]
        },
        {
          "output_type": "display_data",
          "data": {
            "text/plain": [
              "<Figure size 432x288 with 1 Axes>"
            ],
            "image/png": "[encoded data removed]"
          },
          "metadata": {
            "needs_background": "light"
          }
        }
      ],
      "source": [
        "import pandas as pd\n",
        "import numpy as np\n",
        "from sklearn.linear_model import LinearRegression\n",
        "from sklearn.metrics import mean_squared_error, r2_score\n",
        "import matplotlib.pyplot as plt\n",
        "\n",
        "# Load sales data\n",
        "sales_data = pd.read_csv('/content/archive (3).zip')\n",
        "\n",
        "# Split dataset into training and testing sets\n",
        "X = sales_data.iloc[:, :-1].values\n",
        "y = sales_data.iloc[:, -1].values\n",
        "from sklearn.model_selection import train_test_split\n",
        "X_train, X_test, y_train, y_test = train_test_split(X, y, test_size=0.2, random_state=42)\n",
        "\n",
        "# Train linear regression model\n",
        "lr = LinearRegression()\n",
        "lr.fit(X_train, y_train)\n",
        "\n",
        "# Make predictions\n",
        "y_pred = lr.predict(X_test)\n",
        "\n",
        "# Evaluate performance\n",
        "print(\"Mean Squared Error: \", mean_squared_error(y_test, y_pred))\n",
        "print(\"R-squared: \", r2_score(y_test, y_pred))\n",
        "\n",
        "# Plot predicted vs actual sales\n",
        "plt.scatter(y_test, y_pred)\n",
        "plt.xlabel('Actual Sales')\n",
        "plt.ylabel('Predicted Sales')\n",
        "plt.title('Sales Prediction')\n",
        "plt.show()\n"
      ]
    }
  ]
}